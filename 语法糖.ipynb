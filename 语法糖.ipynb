{
 "cells": [
  {
   "cell_type": "code",
   "execution_count": 1,
   "metadata": {},
   "outputs": [
    {
     "name": "stdout",
     "output_type": "stream",
     "text": [
      "Capital City\n",
      "Springfield\n"
     ]
    }
   ],
   "source": [
    "# 默认对象复制都是引用，深拷贝需要显示声明\n",
    "\n",
    "import copy\n",
    "\n",
    "class Address:\n",
    "    def __init__(self, street, city):\n",
    "        self.street = street\n",
    "        self.city = city\n",
    "\n",
    "class Person:\n",
    "    def __init__(self, name, age, address):\n",
    "        self.name = name\n",
    "        self.age = age\n",
    "        self.address = address\n",
    "\n",
    "address = Address(\"Main St.\", \"Springfield\")\n",
    "p1 = Person(\"Bob\", 40, address)\n",
    "people_dict = {}\n",
    "people_dict[\"bob\"] = p1\n",
    "# 使用深拷贝存储对象\n",
    "people_dict[\"bob_deepcopy\"] = copy.deepcopy(p1)\n",
    "\n",
    "# 修改原始地址对象\n",
    "address.city = \"Shelbyville\"\n",
    "\n",
    "\n",
    "\n",
    "# 此时即使修改原始地址对象，深拷贝的对象不会受影响\n",
    "address.city = \"Capital City\"\n",
    "print(people_dict[\"bob\"].address.city)  # 输出：Capital City\n",
    "print(people_dict[\"bob_deepcopy\"].address.city)  # 输出：Shelbyville"
   ]
  }
 ],
 "metadata": {
  "kernelspec": {
   "display_name": ".venv",
   "language": "python",
   "name": "python3"
  },
  "language_info": {
   "codemirror_mode": {
    "name": "ipython",
    "version": 3
   },
   "file_extension": ".py",
   "mimetype": "text/x-python",
   "name": "python",
   "nbconvert_exporter": "python",
   "pygments_lexer": "ipython3",
   "version": "3.9.4"
  }
 },
 "nbformat": 4,
 "nbformat_minor": 2
}
