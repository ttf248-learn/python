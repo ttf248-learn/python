{
 "cells": [
  {
   "cell_type": "markdown",
   "metadata": {},
   "source": [
    "行情数据临时处理，将 JSON 数据转换为 yaml 格式，案例内部默认数据配置"
   ]
  },
  {
   "cell_type": "code",
   "execution_count": 7,
   "metadata": {},
   "outputs": [],
   "source": [
    "import yaml\n",
    "\n",
    "# 定义数据字典\n",
    "data_dict = {\"AMT_ISSUE\":0,\"ActionDay\":\"\",\"AskPrice1\":0,\"AskPrice10\":0,\"AskPrice2\":0,\"AskPrice3\":0,\"AskPrice4\":0,\"AskPrice5\":0,\"AskPrice6\":0,\"AskPrice7\":0,\"AskPrice8\":0,\"AskPrice9\":0,\"AskVolume1\":0,\"AskVolume10\":0,\"AskVolume2\":0,\"AskVolume3\":0,\"AskVolume4\":0,\"AskVolume5\":0,\"AskVolume6\":0,\"AskVolume7\":0,\"AskVolume8\":0,\"AskVolume9\":0,\"AveragePrice\":0,\"BidPrice1\":0,\"BidPrice10\":0,\"BidPrice2\":0,\"BidPrice3\":0,\"BidPrice4\":0,\"BidPrice5\":0,\"BidPrice6\":0,\"BidPrice7\":0,\"BidPrice8\":0,\"BidPrice9\":0,\"BidVolume1\":0,\"BidVolume10\":0,\"BidVolume2\":0,\"BidVolume3\":0,\"BidVolume4\":0,\"BidVolume5\":0,\"BidVolume6\":0,\"BidVolume7\":0,\"BidVolume8\":0,\"BidVolume9\":0,\"CONTR_MNTH\":\"\",\"CirculateShare\":0,\"ClosePrice\":0,\"Committee\":0,\"CoolingOffEndTime\":0,\"CoolingOffStartTime\":0,\"CurrDelta\":0,\"D\":0,\"DELTA\":0,\"DataFlag\":0,\"EXPIR_DATE\":\"\",\"ExchangeID\":\"HKSE\",\"ExchangeInstID\":\"\",\"HKLastPrice\":0,\"HighestPrice\":0,\"HstTradingDay\":\"\",\"ID\":\"0\",\"IMP_VOLT\":0,\"IOPV\":0,\"ImpliedAskPrice\":0,\"ImpliedAskVolume\":0,\"ImpliedBidPrice\":0,\"ImpliedBidVolume\":0,\"IndicativeEquilibriumPrice\":100,\"IndicativeEquilibriumQuantity\":200,\"InstPhase\":0,\"InstrumentID\":\"00700\",\"InstrumentType\":\"\",\"KcbTradeAmount\":0,\"KcbTradeVolume\":0,\"LSTTRDDATE\":\"\",\"LastPrice\":300.9,\"LastTradeVol\":0,\"LotSize\":0,\"LowerLimitPrice\":0,\"LowerSprd\":0,\"LowestPrice\":99,\"MKT_ST_IND\":0,\"NAV\":0,\"NP\":0,\"NUM_WT_S\":\"0\",\"NextDayPreClosePrice\":0,\"OpenInterest\":0,\"OpenPrice\":0,\"OrderImbalanceDirection\":\"\",\"OrderImbalanceQuantity\":0,\"P\":0,\"PERatio\":0,\"PES\":0,\"PROT_PRC\":0,\"PUT_CALL\":0,\"PreCloseIOPV\":0,\"PreClosePrice\":300,\"PreDelta\":0,\"PreOpenInterest\":0,\"PreSettlementDate\":\"\",\"PreSettlementPrice\":0,\"PreSettlementTime\":\"\",\"RECORDTYPE\":0,\"Ratio\":0,\"ReceiveDateTime\":1714473826,\"ReferenceLowerPrice\":0,\"ReferencePrice\":0,\"ReferenceUpperPrice\":0,\"STRIKE_PRC\":0,\"SettlementPrice\":0,\"TotalShare\":0,\"TradeStatus\":2,\"TradeType\":\"\",\"TradeVol\":0,\"TradingDay\":\"0\",\"Turnover\":0,\"UNDERLYING\":\"\",\"UpdateMillisec\":0,\"UpdateTime\":\"\",\"UpperLimitPrice\":0,\"UpperSprd\":0,\"VCMLowerPrice\":0,\"VCMReferencePrice\":0,\"VCMUpperPrice\":0,\"Volume\":0,\"WNT_RATIO\":0,\"WP\":0,\"Wk52High\":1000,\"Wk52Low\":0,\"Z\":0}\n",
    "\n",
    "# 将数据写入 YAML 文件\n",
    "with open(\"test/data_quote.yaml\", \"w\") as yaml_file:\n",
    "    yaml.dump(data_dict, yaml_file, default_flow_style=False)"
   ]
  },
  {
   "cell_type": "code",
   "execution_count": 9,
   "metadata": {},
   "outputs": [
    {
     "name": "stdout",
     "output_type": "stream",
     "text": [
      "完整字符比较 0.2962962962962963\n",
      "首位字符相似度 0.36363636363636365\n",
      "定位串字符相似度 0.36363636363636365\n",
      "3d medicines-b\n",
      "0.7741935483870968\n",
      "0.5\n",
      "0.0\n",
      "1.0\n",
      "0.2962962962962963\n"
     ]
    }
   ],
   "source": [
    "# 辉立暗盘合约名称相似度计算\n",
    "\n",
    "import difflib\n",
    "\n",
    "local_str = '維天運通 LOGORY'\n",
    "network_str = '合肥維天運通信息科技股份有限公司'\n",
    "loc = network_str.find(local_str[0])\n",
    "print('完整字符比较', difflib.SequenceMatcher(None, local_str, network_str).ratio())\n",
    "print('首位字符相似度', difflib.SequenceMatcher(None, network_str[:len(local_str)].lower(), local_str.lower()).ratio())\n",
    "print('定位串字符相似度', difflib.SequenceMatcher(None, network_str[loc:len(local_str)+loc].lower(), local_str.lower()).ratio())\n",
    "\n",
    "# \n",
    "print('3D MEDICINES-B'.lower())\n",
    "print(difflib.SequenceMatcher(None, '3D Medicines Inc.'.lower(), '3D MEDICINES-B'.lower()).quick_ratio())\n",
    "print(difflib.SequenceMatcher(None, '美皓醫療'.lower(), '美皓集團'.lower()).quick_ratio())\n",
    "print(difflib.SequenceMatcher(None, '國際控股', '濠暻科技').quick_ratio())\n",
    "print(difflib.SequenceMatcher(None, '陽光保險', '陽光保險').quick_ratio())\n",
    "\n",
    "s1 = \"維天運通 LOGORY\"\n",
    "s2 = \"合肥維天運通信息科技股份有限公司\"\n",
    "similarity = difflib.SequenceMatcher(None, s1, s2).ratio()\n",
    "print(similarity)"
   ]
  },
  {
   "cell_type": "code",
   "execution_count": 11,
   "metadata": {},
   "outputs": [
    {
     "name": "stdout",
     "output_type": "stream",
     "text": [
      "两个字符串的相似度是： 0.44721359549995787\n",
      "xxx\n"
     ]
    }
   ],
   "source": [
    "import jieba\n",
    "import numpy as np\n",
    "from scipy.spatial.distance import cosine\n",
    "\n",
    "# 定义两个字符串\n",
    "str1 = \"維天運通 LOGORY\"\n",
    "str2 = \"合肥維天運通信息科技股份有限公司\"\n",
    "\n",
    "# 统一处理字符串，英文转换为小写\n",
    "str1 = str1.lower()\n",
    "str2 = str2.lower()\n",
    "\n",
    "# 找到第二个字符串中第一个字符的位置\n",
    "index = str2.find(str1[0])\n",
    "\n",
    "# 如果找到了，截取第二个字符串\n",
    "if index != -1:\n",
    "    str2 = str2[index:index+len(str1)]\n",
    "\n",
    "# 使用 jieba 库进行分词\n",
    "words1 = list(jieba.cut(str1))\n",
    "words2 = list(jieba.cut(str2))\n",
    "\n",
    "# 创建词汇表\n",
    "vocab = list(set(words1) | set(words2))\n",
    "\n",
    "# 初始化词向量\n",
    "vector1 = np.zeros(len(vocab))\n",
    "vector2 = np.zeros(len(vocab))\n",
    "\n",
    "# 统计词频\n",
    "for i, word in enumerate(vocab):\n",
    "    vector1[i] = words1.count(word)\n",
    "    vector2[i] = words2.count(word)\n",
    "\n",
    "# 计算两个字符串的相似度（以余弦距离作为指标）\n",
    "similarity = 1 - cosine(vector1, vector2)\n",
    "\n",
    "print(\"两个字符串的相似度是：\", similarity)\n",
    "\n",
    "bstr = 'xxx'\n",
    "print(bstr)"
   ]
  },
  {
   "cell_type": "code",
   "execution_count": 12,
   "metadata": {},
   "outputs": [
    {
     "name": "stdout",
     "output_type": "stream",
     "text": [
      "Init Time Cron: 50 8 * * 1-5\n",
      "Close Price Cron: 58 13 * * 1-5\n"
     ]
    }
   ],
   "source": [
    "# 普通时间格式，转换为 cron 格式\n",
    "import datetime\n",
    "\n",
    "init_time = datetime.datetime.strptime(\"08:50\", \"%H:%M\")\n",
    "close_price = datetime.datetime.strptime(\"13:58\", \"%H:%M\")\n",
    "\n",
    "init_time_cron = f\"{init_time.minute} {init_time.hour} * * 1-5\"\n",
    "close_price_cron = f\"{close_price.minute} {close_price.hour} * * 1-5\"\n",
    "\n",
    "print(\"Init Time Cron:\", init_time_cron)\n",
    "print(\"Close Price Cron:\", close_price_cron)"
   ]
  },
  {
   "cell_type": "code",
   "execution_count": 2,
   "metadata": {},
   "outputs": [
    {
     "name": "stdout",
     "output_type": "stream",
     "text": [
      "product_code         00152                00153               \n",
      "product_name         SHENZHEN INT'L       TENCENT             \n",
      "product_name_tc      深圳國際                 騰訊控股                \n",
      "product_name_sc      深圳国际                 腾讯控股                \n",
      "product_long_name    SHENZHEN INT'L       TENCENT             \n",
      "product_long_name_tc 深圳國際                 騰訊控股                \n",
      "product_long_name_sc 深圳国际                 腾讯控股                \n",
      "close_price                      7.580000             0.104000\n",
      "close_price_prev                 6.500000             8.600000\n",
      "isin                 BMG8086V1467         KYG875721634        \n",
      "lot_size                       500.000000           100.000000\n",
      "listing_date                     19720925             20040616\n",
      "remarks              close_price [1]                          \n",
      "last_upd_user        QUOTASVR_STATISTICS  QUOTASVR_PUBBER_STATISTICS\n",
      "last_upd_dt          20 20\n",
      "operlog_guid         d734a005f8d540d4b30962648bfda581 efe5f535aea44a89b09f42a6c6a9f4e0\n",
      "frr_grade            C                    J                   \n",
      "fo_upd_dt            20 20\n",
      "shares_traded             18840331.000000             0.000000\n",
      "turnover                     129204179.96                 0.00\n",
      "history_flag         1                    0                   \n"
     ]
    }
   ],
   "source": [
    "import pymysql\n",
    "\n",
    "# connect mysql and select data\n",
    "def connect_mysql(sql):\n",
    "    conn = pymysql.connect(host='192.168.19.146', user='root', port=5306, passwd='sErjf&eNh9zv4CSV', db='ykcz_trade', charset='utf8')\n",
    "    cur = conn.cursor()\n",
    "    cur.execute(sql)\n",
    "    # 是否为空\n",
    "    if cur.rowcount == 0:\n",
    "        print('No data')\n",
    "        return None\n",
    "\n",
    "    data = cur.fetchall()\n",
    "    # 获取字段名\n",
    "    field = [i[0] for i in cur.description]\n",
    "    # 将字段名和数据组合成字典\n",
    "    data_dict = [dict(zip(field, i)) for i in data]\n",
    "\n",
    "    cur.close()\n",
    "    conn.close()\n",
    "\n",
    "    return data_dict\n",
    "\n",
    "# compare dict\n",
    "def compare_dict(dict1, dict2):\n",
    "    for key in dict1:\n",
    "        if dict1[key] != dict2[key]:\n",
    "            # 打印 右对齐\n",
    "            print('{0:20} {1:20} {2:20}'.format(key, dict1[key], dict2[key]))\n",
    "\n",
    "\n",
    "if __name__ == '__main__':\n",
    "    # qas 数据\n",
    "    data_153 = connect_mysql(\"select * from ykcz_trade.tsecu_product where product_code = '00152'\")\n",
    "    # pubber 数据\n",
    "    data_152 = connect_mysql(\"select * from ykcz_trade.tsecu_product where product_code = '00153'\")\n",
    "\n",
    "    # 其中一个为空\n",
    "    if data_153 is None or data_152 is None:\n",
    "        print('No data')\n",
    "        exit()\n",
    "        \n",
    "    compare_dict(data_153[0], data_152[0])"
   ]
  }
 ],
 "metadata": {
  "kernelspec": {
   "display_name": ".venv",
   "language": "python",
   "name": "python3"
  },
  "language_info": {
   "codemirror_mode": {
    "name": "ipython",
    "version": 3
   },
   "file_extension": ".py",
   "mimetype": "text/x-python",
   "name": "python",
   "nbconvert_exporter": "python",
   "pygments_lexer": "ipython3",
   "version": "3.9.4"
  }
 },
 "nbformat": 4,
 "nbformat_minor": 2
}
