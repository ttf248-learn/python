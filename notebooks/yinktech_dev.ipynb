{
 "cells": [
  {
   "cell_type": "markdown",
   "metadata": {},
   "source": [
    "行情数据临时处理，将 JSON 数据转换为 yaml 格式，案例内部默认数据配置"
   ]
  },
  {
   "cell_type": "code",
   "execution_count": null,
   "metadata": {},
   "outputs": [
    {
     "name": "stdout",
     "output_type": "stream",
     "text": [
      "滑动窗口最佳匹配相似度: 0.36363636363636365\n",
      "原始完整字符比较: 0.2962962962962963\n",
      "定位串字符相似度: 0.36363636363636365\n"
     ]
    }
   ],
   "source": [
    "import difflib\n",
    "import jieba\n",
    "import numpy as np\n",
    "from scipy.spatial.distance import cosine\n",
    "\n",
    "# 考虑字符串长度不一致的新算法\n",
    "def calculate_similarity(str1, str2):\n",
    "    # 统一转换为小写\n",
    "    str1, str2 = str1.lower(), str2.lower()\n",
    "    \n",
    "    # 基本滑动窗口匹配\n",
    "    max_char_ratio = 0\n",
    "    str1_len = len(str1)\n",
    "    \n",
    "    for i in range(len(str2) - str1_len + 1):\n",
    "        window = str2[i:i + str1_len]\n",
    "        ratio = difflib.SequenceMatcher(None, str1, window).ratio()\n",
    "        max_char_ratio = max(max_char_ratio, ratio)\n",
    "    \n",
    "    # 使用jieba分词进行语义匹配\n",
    "    words1 = list(jieba.cut(str1))\n",
    "    words2 = list(jieba.cut(str2))\n",
    "    \n",
    "    # 创建词汇表和向量\n",
    "    vocab = list(set(words1) | set(words2))\n",
    "    vector1 = np.zeros(len(vocab))\n",
    "    vector2 = np.zeros(len(vocab))\n",
    "    \n",
    "    # 统计词频\n",
    "    for i, word in enumerate(vocab):\n",
    "        vector1[i] = words1.count(word)\n",
    "        vector2[i] = words2.count(word)\n",
    "    \n",
    "    # 计算语义相似度\n",
    "    semantic_similarity = 1 - cosine(vector1, vector2) if np.sum(vector1) > 0 and np.sum(vector2) > 0 else 0\n",
    "    \n",
    "    # 综合考虑字符匹配和语义匹配\n",
    "    combined_similarity = 0.6 * max_char_ratio + 0.4 * semantic_similarity\n",
    "    \n",
    "    return combined_similarity\n",
    "\n",
    "local_str = '維天運通 LOGORY'\n",
    "network_str = '合肥維天運通信息科技股份有限公司'\n",
    "loc = 2\n",
    "\n",
    "# 计算相似度\n",
    "print('滑动窗口最佳匹配相似度:', calculate_similarity(local_str, network_str))\n",
    "\n",
    "# 对比不同方法的结果\n",
    "print('原始完整字符比较:', difflib.SequenceMatcher(None, local_str, network_str).ratio())\n",
    "print('定位串字符相似度:', difflib.SequenceMatcher(None, network_str[loc:len(local_str)+loc].lower(), local_str.lower()).ratio())"
   ]
  },
  {
   "cell_type": "code",
   "execution_count": 10,
   "metadata": {},
   "outputs": [
    {
     "name": "stderr",
     "output_type": "stream",
     "text": [
      "Building prefix dict from the default dictionary ...\n",
      "Dumping model to file cache C:\\Users\\core\\AppData\\Local\\Temp\\jieba.cache\n",
      "Loading model cost 0.610 seconds.\n",
      "Prefix dict has been built successfully.\n"
     ]
    },
    {
     "name": "stdout",
     "output_type": "stream",
     "text": [
      "两个字符串的相似度是： 0.44721359549995787\n",
      "xxx\n"
     ]
    }
   ],
   "source": [
    "import jieba\n",
    "import numpy as np\n",
    "from scipy.spatial.distance import cosine\n",
    "\n",
    "# 定义两个字符串\n",
    "str1 = \"維天運通 LOGORY\"\n",
    "str2 = \"合肥維天運通信息科技股份有限公司\"\n",
    "\n",
    "# 统一处理字符串，英文转换为小写\n",
    "str1 = str1.lower()\n",
    "str2 = str2.lower()\n",
    "\n",
    "# 找到第二个字符串中第一个字符的位置\n",
    "index = str2.find(str1[0])\n",
    "\n",
    "# 如果找到了，截取第二个字符串\n",
    "if index != -1:\n",
    "    str2 = str2[index:index+len(str1)]\n",
    "\n",
    "# 使用 jieba 库进行分词\n",
    "words1 = list(jieba.cut(str1))\n",
    "words2 = list(jieba.cut(str2))\n",
    "\n",
    "# 创建词汇表\n",
    "vocab = list(set(words1) | set(words2))\n",
    "\n",
    "# 初始化词向量\n",
    "vector1 = np.zeros(len(vocab))\n",
    "vector2 = np.zeros(len(vocab))\n",
    "\n",
    "# 统计词频\n",
    "for i, word in enumerate(vocab):\n",
    "    vector1[i] = words1.count(word)\n",
    "    vector2[i] = words2.count(word)\n",
    "\n",
    "# 计算两个字符串的相似度（以余弦距离作为指标）\n",
    "similarity = 1 - cosine(vector1, vector2)\n",
    "\n",
    "print(\"两个字符串的相似度是：\", similarity)\n",
    "\n",
    "bstr = 'xxx'\n",
    "print(bstr)"
   ]
  },
  {
   "cell_type": "code",
   "execution_count": 12,
   "metadata": {},
   "outputs": [
    {
     "name": "stdout",
     "output_type": "stream",
     "text": [
      "Init Time Cron: 50 8 * * 1-5\n",
      "Close Price Cron: 58 13 * * 1-5\n"
     ]
    }
   ],
   "source": [
    "# 普通时间格式，转换为 cron 格式\n",
    "import datetime\n",
    "\n",
    "init_time = datetime.datetime.strptime(\"08:50\", \"%H:%M\")\n",
    "close_price = datetime.datetime.strptime(\"13:58\", \"%H:%M\")\n",
    "\n",
    "init_time_cron = f\"{init_time.minute} {init_time.hour} * * 1-5\"\n",
    "close_price_cron = f\"{close_price.minute} {close_price.hour} * * 1-5\"\n",
    "\n",
    "print(\"Init Time Cron:\", init_time_cron)\n",
    "print(\"Close Price Cron:\", close_price_cron)"
   ]
  },
  {
   "cell_type": "code",
   "execution_count": 2,
   "metadata": {},
   "outputs": [
    {
     "name": "stdout",
     "output_type": "stream",
     "text": [
      "product_code         00152                00153               \n",
      "product_name         SHENZHEN INT'L       TENCENT             \n",
      "product_name_tc      深圳國際                 騰訊控股                \n",
      "product_name_sc      深圳国际                 腾讯控股                \n",
      "product_long_name    SHENZHEN INT'L       TENCENT             \n",
      "product_long_name_tc 深圳國際                 騰訊控股                \n",
      "product_long_name_sc 深圳国际                 腾讯控股                \n",
      "close_price                      7.580000             0.104000\n",
      "close_price_prev                 6.500000             8.600000\n",
      "isin                 BMG8086V1467         KYG875721634        \n",
      "lot_size                       500.000000           100.000000\n",
      "listing_date                     19720925             20040616\n",
      "remarks              close_price [1]                          \n",
      "last_upd_user        QUOTASVR_STATISTICS  QUOTASVR_PUBBER_STATISTICS\n",
      "last_upd_dt          20 20\n",
      "operlog_guid         d734a005f8d540d4b30962648bfda581 efe5f535aea44a89b09f42a6c6a9f4e0\n",
      "frr_grade            C                    J                   \n",
      "fo_upd_dt            20 20\n",
      "shares_traded             18840331.000000             0.000000\n",
      "turnover                     129204179.96                 0.00\n",
      "history_flag         1                    0                   \n"
     ]
    }
   ],
   "source": [
    "import pymysql\n",
    "\n",
    "# connect mysql and select data\n",
    "def connect_mysql(sql):\n",
    "    conn = pymysql.connect(host='192.168.19.146', user='root', port=5306, passwd='sErjf&eNh9zv4CSV', db='ykcz_trade', charset='utf8')\n",
    "    cur = conn.cursor()\n",
    "    cur.execute(sql)\n",
    "    # 是否为空\n",
    "    if cur.rowcount == 0:\n",
    "        print('No data')\n",
    "        return None\n",
    "\n",
    "    data = cur.fetchall()\n",
    "    # 获取字段名\n",
    "    field = [i[0] for i in cur.description]\n",
    "    # 将字段名和数据组合成字典\n",
    "    data_dict = [dict(zip(field, i)) for i in data]\n",
    "\n",
    "    cur.close()\n",
    "    conn.close()\n",
    "\n",
    "    return data_dict\n",
    "\n",
    "# compare dict\n",
    "def compare_dict(dict1, dict2):\n",
    "    for key in dict1:\n",
    "        if dict1[key] != dict2[key]:\n",
    "            # 打印 右对齐\n",
    "            print('{0:20} {1:20} {2:20}'.format(key, dict1[key], dict2[key]))\n",
    "\n",
    "\n",
    "if __name__ == '__main__':\n",
    "    # qas 数据\n",
    "    data_153 = connect_mysql(\"select * from ykcz_trade.tsecu_product where product_code = '00152'\")\n",
    "    # pubber 数据\n",
    "    data_152 = connect_mysql(\"select * from ykcz_trade.tsecu_product where product_code = '00153'\")\n",
    "\n",
    "    # 其中一个为空\n",
    "    if data_153 is None or data_152 is None:\n",
    "        print('No data')\n",
    "        exit()\n",
    "        \n",
    "    compare_dict(data_153[0], data_152[0])"
   ]
  }
 ],
 "metadata": {
  "kernelspec": {
   "display_name": ".venv",
   "language": "python",
   "name": "python3"
  },
  "language_info": {
   "codemirror_mode": {
    "name": "ipython",
    "version": 3
   },
   "file_extension": ".py",
   "mimetype": "text/x-python",
   "name": "python",
   "nbconvert_exporter": "python",
   "pygments_lexer": "ipython3",
   "version": "3.12.8"
  }
 },
 "nbformat": 4,
 "nbformat_minor": 2
}
