{
 "cells": [
  {
   "cell_type": "markdown",
   "metadata": {},
   "source": [
    "行情数据临时处理，将 JSON 数据转换为 yaml 格式，案例内部默认数据配置"
   ]
  },
  {
   "cell_type": "code",
   "execution_count": 7,
   "metadata": {},
   "outputs": [],
   "source": [
    "import yaml\n",
    "\n",
    "# 定义数据字典\n",
    "data_dict = {\"AMT_ISSUE\":0,\"ActionDay\":\"\",\"AskPrice1\":0,\"AskPrice10\":0,\"AskPrice2\":0,\"AskPrice3\":0,\"AskPrice4\":0,\"AskPrice5\":0,\"AskPrice6\":0,\"AskPrice7\":0,\"AskPrice8\":0,\"AskPrice9\":0,\"AskVolume1\":0,\"AskVolume10\":0,\"AskVolume2\":0,\"AskVolume3\":0,\"AskVolume4\":0,\"AskVolume5\":0,\"AskVolume6\":0,\"AskVolume7\":0,\"AskVolume8\":0,\"AskVolume9\":0,\"AveragePrice\":0,\"BidPrice1\":0,\"BidPrice10\":0,\"BidPrice2\":0,\"BidPrice3\":0,\"BidPrice4\":0,\"BidPrice5\":0,\"BidPrice6\":0,\"BidPrice7\":0,\"BidPrice8\":0,\"BidPrice9\":0,\"BidVolume1\":0,\"BidVolume10\":0,\"BidVolume2\":0,\"BidVolume3\":0,\"BidVolume4\":0,\"BidVolume5\":0,\"BidVolume6\":0,\"BidVolume7\":0,\"BidVolume8\":0,\"BidVolume9\":0,\"CONTR_MNTH\":\"\",\"CirculateShare\":0,\"ClosePrice\":0,\"Committee\":0,\"CoolingOffEndTime\":0,\"CoolingOffStartTime\":0,\"CurrDelta\":0,\"D\":0,\"DELTA\":0,\"DataFlag\":0,\"EXPIR_DATE\":\"\",\"ExchangeID\":\"HKSE\",\"ExchangeInstID\":\"\",\"HKLastPrice\":0,\"HighestPrice\":0,\"HstTradingDay\":\"\",\"ID\":\"0\",\"IMP_VOLT\":0,\"IOPV\":0,\"ImpliedAskPrice\":0,\"ImpliedAskVolume\":0,\"ImpliedBidPrice\":0,\"ImpliedBidVolume\":0,\"IndicativeEquilibriumPrice\":100,\"IndicativeEquilibriumQuantity\":200,\"InstPhase\":0,\"InstrumentID\":\"00700\",\"InstrumentType\":\"\",\"KcbTradeAmount\":0,\"KcbTradeVolume\":0,\"LSTTRDDATE\":\"\",\"LastPrice\":300.9,\"LastTradeVol\":0,\"LotSize\":0,\"LowerLimitPrice\":0,\"LowerSprd\":0,\"LowestPrice\":99,\"MKT_ST_IND\":0,\"NAV\":0,\"NP\":0,\"NUM_WT_S\":\"0\",\"NextDayPreClosePrice\":0,\"OpenInterest\":0,\"OpenPrice\":0,\"OrderImbalanceDirection\":\"\",\"OrderImbalanceQuantity\":0,\"P\":0,\"PERatio\":0,\"PES\":0,\"PROT_PRC\":0,\"PUT_CALL\":0,\"PreCloseIOPV\":0,\"PreClosePrice\":300,\"PreDelta\":0,\"PreOpenInterest\":0,\"PreSettlementDate\":\"\",\"PreSettlementPrice\":0,\"PreSettlementTime\":\"\",\"RECORDTYPE\":0,\"Ratio\":0,\"ReceiveDateTime\":1714473826,\"ReferenceLowerPrice\":0,\"ReferencePrice\":0,\"ReferenceUpperPrice\":0,\"STRIKE_PRC\":0,\"SettlementPrice\":0,\"TotalShare\":0,\"TradeStatus\":2,\"TradeType\":\"\",\"TradeVol\":0,\"TradingDay\":\"0\",\"Turnover\":0,\"UNDERLYING\":\"\",\"UpdateMillisec\":0,\"UpdateTime\":\"\",\"UpperLimitPrice\":0,\"UpperSprd\":0,\"VCMLowerPrice\":0,\"VCMReferencePrice\":0,\"VCMUpperPrice\":0,\"Volume\":0,\"WNT_RATIO\":0,\"WP\":0,\"Wk52High\":1000,\"Wk52Low\":0,\"Z\":0}\n",
    "\n",
    "# 将数据写入 YAML 文件\n",
    "with open(\"test/data_quote.yaml\", \"w\") as yaml_file:\n",
    "    yaml.dump(data_dict, yaml_file, default_flow_style=False)"
   ]
  },
  {
   "cell_type": "code",
   "execution_count": 8,
   "metadata": {},
   "outputs": [
    {
     "name": "stdout",
     "output_type": "stream",
     "text": [
      "完整字符比较 0.2962962962962963\n",
      "首位字符相似度 0.36363636363636365\n",
      "定位串字符相似度 0.36363636363636365\n",
      "3d medicines-b\n",
      "0.7741935483870968\n",
      "0.5\n",
      "0.0\n",
      "1.0\n",
      "0.2962962962962963\n"
     ]
    },
    {
     "ename": "AttributeError",
     "evalue": "module 'difflib' has no attribute '__version__'",
     "output_type": "error",
     "traceback": [
      "\u001b[1;31m---------------------------------------------------------------------------\u001b[0m",
      "\u001b[1;31mAttributeError\u001b[0m                            Traceback (most recent call last)",
      "Cell \u001b[1;32mIn[8], line 24\u001b[0m\n\u001b[0;32m     21\u001b[0m similarity \u001b[38;5;241m=\u001b[39m difflib\u001b[38;5;241m.\u001b[39mSequenceMatcher(\u001b[38;5;28;01mNone\u001b[39;00m, s1, s2)\u001b[38;5;241m.\u001b[39mratio()\n\u001b[0;32m     22\u001b[0m \u001b[38;5;28mprint\u001b[39m(similarity)\n\u001b[1;32m---> 24\u001b[0m \u001b[38;5;28mprint\u001b[39m(\u001b[43mdifflib\u001b[49m\u001b[38;5;241;43m.\u001b[39;49m\u001b[43m__version__\u001b[49m)\n",
      "\u001b[1;31mAttributeError\u001b[0m: module 'difflib' has no attribute '__version__'"
     ]
    }
   ],
   "source": [
    "# 辉立暗盘合约名称相似度计算\n",
    "\n",
    "import difflib\n",
    "\n",
    "local_str = '維天運通 LOGORY'\n",
    "network_str = '合肥維天運通信息科技股份有限公司'\n",
    "loc = network_str.find(local_str[0])\n",
    "print('完整字符比较', difflib.SequenceMatcher(None, local_str, network_str).ratio())\n",
    "print('首位字符相似度', difflib.SequenceMatcher(None, network_str[:len(local_str)].lower(), local_str.lower()).ratio())\n",
    "print('定位串字符相似度', difflib.SequenceMatcher(None, network_str[loc:len(local_str)+loc].lower(), local_str.lower()).ratio())\n",
    "\n",
    "# \n",
    "print('3D MEDICINES-B'.lower())\n",
    "print(difflib.SequenceMatcher(None, '3D Medicines Inc.'.lower(), '3D MEDICINES-B'.lower()).quick_ratio())\n",
    "print(difflib.SequenceMatcher(None, '美皓醫療'.lower(), '美皓集團'.lower()).quick_ratio())\n",
    "print(difflib.SequenceMatcher(None, '國際控股', '濠暻科技').quick_ratio())\n",
    "print(difflib.SequenceMatcher(None, '陽光保險', '陽光保險').quick_ratio())\n",
    "\n",
    "s1 = \"維天運通 LOGORY\"\n",
    "s2 = \"合肥維天運通信息科技股份有限公司\"\n",
    "similarity = difflib.SequenceMatcher(None, s1, s2).ratio()\n",
    "print(similarity)"
   ]
  }
 ],
 "metadata": {
  "kernelspec": {
   "display_name": ".venv",
   "language": "python",
   "name": "python3"
  },
  "language_info": {
   "codemirror_mode": {
    "name": "ipython",
    "version": 3
   },
   "file_extension": ".py",
   "mimetype": "text/x-python",
   "name": "python",
   "nbconvert_exporter": "python",
   "pygments_lexer": "ipython3",
   "version": "3.9.4"
  }
 },
 "nbformat": 4,
 "nbformat_minor": 2
}
