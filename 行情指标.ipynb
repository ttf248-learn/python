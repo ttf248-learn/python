{
 "cells": [
  {
   "cell_type": "code",
   "execution_count": 1,
   "metadata": {},
   "outputs": [
    {
     "name": "stdout",
     "output_type": "stream",
     "text": [
      "2    101.000000\n",
      "3    102.666667\n",
      "4    104.333333\n",
      "5    107.333333\n",
      "6    108.333333\n",
      "7    108.333333\n",
      "8    108.000000\n",
      "9    109.000000\n",
      "dtype: float64\n"
     ]
    }
   ],
   "source": [
    "import pandas as pd\n",
    "\n",
    "def MA(data, n):\n",
    "    return pd.Series(data).rolling(window=n).mean().dropna()\n",
    "\n",
    "data = [100, 102, 101, 105, 107, 110, 108, 107, 109, 111]\n",
    "sma = MA(data, 3)\n",
    "print(sma)"
   ]
  },
  {
   "cell_type": "code",
   "execution_count": 3,
   "metadata": {},
   "outputs": [
    {
     "name": "stdout",
     "output_type": "stream",
     "text": [
      "0    100.000000\n",
      "1    100.666667\n",
      "2    100.777778\n",
      "3    102.185185\n",
      "4    103.790123\n",
      "5    105.860082\n",
      "6    106.573388\n",
      "7    106.715592\n",
      "8    107.477061\n",
      "9    108.651374\n",
      "dtype: float64\n"
     ]
    }
   ],
   "source": [
    "from functools import reduce\n",
    "\n",
    "def sma_cn(data, N=6, M=1):\n",
    "    return reduce(lambda x, y: x + [((N - M) * x[-1] + M * y) / N], data[1:], [data[0]])\n",
    "\n",
    "data = [100, 102, 101, 105, 107, 110, 108, 107, 109, 111]\n",
    "sma_custom = sma_cn(data, N=3, M=1)\n",
    "sma_custom = pd.Series(sma_custom)\n",
    "print(sma_custom)"
   ]
  },
  {
   "cell_type": "code",
   "execution_count": 4,
   "metadata": {},
   "outputs": [
    {
     "name": "stdout",
     "output_type": "stream",
     "text": [
      "5    106.074159\n",
      "6    106.682068\n",
      "7    106.779509\n",
      "8    107.446203\n",
      "9    108.497933\n",
      "dtype: float64\n"
     ]
    }
   ],
   "source": [
    "def EMA(data, n):\n",
    "    EMA = pd.Series(data).ewm(span=n, min_periods=n).mean().dropna()\n",
    "    return EMA.dropna()\n",
    "\n",
    "data = [100, 102, 101, 105, 107, 110, 108, 107, 109, 111]\n",
    "print(EMA(data, 6))"
   ]
  }
 ],
 "metadata": {
  "kernelspec": {
   "display_name": ".venv",
   "language": "python",
   "name": "python3"
  },
  "language_info": {
   "codemirror_mode": {
    "name": "ipython",
    "version": 3
   },
   "file_extension": ".py",
   "mimetype": "text/x-python",
   "name": "python",
   "nbconvert_exporter": "python",
   "pygments_lexer": "ipython3",
   "version": "3.9.4"
  }
 },
 "nbformat": 4,
 "nbformat_minor": 2
}
